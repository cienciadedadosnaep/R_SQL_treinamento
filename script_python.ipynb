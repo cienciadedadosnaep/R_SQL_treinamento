{
 "cells": [
  {
   "cell_type": "code",
   "execution_count": 1,
   "id": "76203d7b-0336-4eed-b437-af37991a35e0",
   "metadata": {},
   "outputs": [],
   "source": [
    "# importando bibliotecas\n",
    "import pandas as pd\n",
    "import matplotlib.pyplot as plt\n",
    "import seaborn as sns"
   ]
  },
  {
   "cell_type": "code",
   "execution_count": 2,
   "id": "175cba08-1efd-44fd-8a47-1e6fc51d6614",
   "metadata": {},
   "outputs": [],
   "source": [
    "# importando os bancos de dados\n",
    "escola = pd.read_csv('escola.csv', delimiter = ';')\n",
    "docente = pd.read_csv('docentes.csv', delimiter = ';')\n",
    "alunos = pd.read_csv('alunos.csv', delimiter = ';')"
   ]
  },
  {
   "cell_type": "code",
   "execution_count": 3,
   "id": "f53e356c-edee-4e25-8bc9-590a68719942",
   "metadata": {},
   "outputs": [
    {
     "name": "stdout",
     "output_type": "stream",
     "text": [
      "697\n"
     ]
    }
   ],
   "source": [
    "## Respondendo as perguntas proposta:\n",
    "# 1- Quantos alunos matriculados há na escola no ano de 2019?\n",
    "num_alunos = len(alunos)\n",
    "print(num_alunos)"
   ]
  },
  {
   "cell_type": "code",
   "execution_count": 4,
   "id": "28a91964-4668-4c91-bda6-b20522f019a2",
   "metadata": {
    "tags": []
   },
   "outputs": [
    {
     "name": "stdout",
     "output_type": "stream",
     "text": [
      "<class 'pandas.core.frame.DataFrame'>\n",
      "RangeIndex: 697 entries, 0 to 696\n",
      "Data columns (total 96 columns):\n",
      " #   Column                         Non-Null Count  Dtype  \n",
      "---  ------                         --------------  -----  \n",
      " 0   id                             697 non-null    int64  \n",
      " 1   nome_escola_id                 697 non-null    int64  \n",
      " 2   nu_ano_censo                   697 non-null    int64  \n",
      " 3   id_aluno                       697 non-null    object \n",
      " 4   id_matricula                   697 non-null    int64  \n",
      " 5   nu_mes                         697 non-null    int64  \n",
      " 6   nu_ano                         697 non-null    int64  \n",
      " 7   nu_idade_referencia            697 non-null    int64  \n",
      " 8   nu_idade                       697 non-null    int64  \n",
      " 9   nu_duracao_turma               697 non-null    int64  \n",
      " 10  nu_dur_ativ_comp_mesma_rede    697 non-null    int64  \n",
      " 11  nu_dur_ativ_comp_outras_redes  697 non-null    int64  \n",
      " 12  nu_dur_aee_mesma_rede          697 non-null    int64  \n",
      " 13  nu_dur_aee_outras_redes        697 non-null    int64  \n",
      " 14  nu_dias_atividade              697 non-null    int64  \n",
      " 15  tp_sexo                        697 non-null    int64  \n",
      " 16  tp_cor_raca                    697 non-null    int64  \n",
      " 17  tp_nacionalidade               697 non-null    int64  \n",
      " 18  co_pais_origem                 697 non-null    int64  \n",
      " 19  co_uf_nasc                     697 non-null    int64  \n",
      " 20  co_municipio_nasc              697 non-null    int64  \n",
      " 21  co_uf_end                      697 non-null    int64  \n",
      " 22  co_municipio_end               697 non-null    int64  \n",
      " 23  tp_zona_residencial            697 non-null    int64  \n",
      " 24  tp_local_resid_diferenciada    697 non-null    int64  \n",
      " 25  tp_outro_local_aula            697 non-null    int64  \n",
      " 26  in_aee_libras                  697 non-null    int64  \n",
      " 27  in_aee_lingua_portuguesa       697 non-null    int64  \n",
      " 28  in_aee_informatica_acessivel   697 non-null    int64  \n",
      " 29  in_aee_braille                 697 non-null    int64  \n",
      " 30  in_aee_caa                     697 non-null    int64  \n",
      " 31  in_aee_soroban                 697 non-null    int64  \n",
      " 32  in_aee_vida_autonoma           697 non-null    int64  \n",
      " 33  in_aee_opticos_nao_opticos     697 non-null    int64  \n",
      " 34  in_aee_enriq_curricular        697 non-null    int64  \n",
      " 35  in_aee_desen_cognitivo         697 non-null    int64  \n",
      " 36  in_aee_mobilidade              697 non-null    int64  \n",
      " 37  in_transporte_publico          697 non-null    int64  \n",
      " 38  tp_responsavel_transporte      697 non-null    int64  \n",
      " 39  in_transp_vans_kombi           697 non-null    int64  \n",
      " 40  in_transp_micro_onibus         697 non-null    int64  \n",
      " 41  in_transp_onibus               697 non-null    int64  \n",
      " 42  in_transp_bicicleta            697 non-null    int64  \n",
      " 43  in_transp_tr_animal            697 non-null    int64  \n",
      " 44  in_transp_outro_veiculo        697 non-null    int64  \n",
      " 45  in_transp_embar_ate5           697 non-null    int64  \n",
      " 46  in_transp_embar_5a15           697 non-null    int64  \n",
      " 47  in_transp_embar_15a35          697 non-null    int64  \n",
      " 48  in_transp_embar_35             697 non-null    int64  \n",
      " 49  in_necessidade_especial        697 non-null    int64  \n",
      " 50  in_baixa_visao                 697 non-null    int64  \n",
      " 51  in_cegueira                    697 non-null    int64  \n",
      " 52  in_def_auditiva                697 non-null    int64  \n",
      " 53  in_def_fisica                  697 non-null    int64  \n",
      " 54  in_def_intelectual             697 non-null    int64  \n",
      " 55  in_surdez                      697 non-null    int64  \n",
      " 56  in_surdocegueira               697 non-null    int64  \n",
      " 57  in_def_multipla                697 non-null    int64  \n",
      " 58  in_autismo                     697 non-null    int64  \n",
      " 59  in_superdotacao                697 non-null    int64  \n",
      " 60  in_recurso_ledor               697 non-null    int64  \n",
      " 61  in_recurso_transcricao         697 non-null    int64  \n",
      " 62  in_recurso_interprete          697 non-null    int64  \n",
      " 63  in_recurso_libras              697 non-null    int64  \n",
      " 64  in_recurso_video_libras        697 non-null    int64  \n",
      " 65  in_recurso_labial              697 non-null    int64  \n",
      " 66  in_recurso_braille             697 non-null    int64  \n",
      " 67  in_recurso_cd_audio            697 non-null    int64  \n",
      " 68  in_recurso_prova_portugues     697 non-null    int64  \n",
      " 69  in_recurso_ampliada_18         697 non-null    int64  \n",
      " 70  in_recurso_ampliada_24         697 non-null    int64  \n",
      " 71  in_recurso_nenhum              697 non-null    int64  \n",
      " 72  tp_mediacao_didatico_pedago    697 non-null    int64  \n",
      " 73  in_especial_exclusiva          697 non-null    int64  \n",
      " 74  in_regular                     697 non-null    int64  \n",
      " 75  in_eja                         697 non-null    int64  \n",
      " 76  in_profissionalizante          697 non-null    int64  \n",
      " 77  tp_etapa_ensino                697 non-null    int64  \n",
      " 78  id_turma                       697 non-null    int64  \n",
      " 79  co_curso_educ_profissional     697 non-null    int64  \n",
      " 80  tp_unificada                   697 non-null    int64  \n",
      " 81  tp_tipo_atendimento_turma      697 non-null    int64  \n",
      " 82  tp_tipo_local_turma            697 non-null    int64  \n",
      " 83  tp_dependencia                 0 non-null      float64\n",
      " 84  tp_categoria_escola_privada    697 non-null    int64  \n",
      " 85  in_conveniada_pp               697 non-null    int64  \n",
      " 86  tp_convenio_poder_publico      697 non-null    int64  \n",
      " 87  in_mant_escola_privada_emp     697 non-null    int64  \n",
      " 88  in_mant_escola_priv_ong_oscip  697 non-null    int64  \n",
      " 89  in_mant_escola_privada_oscip   697 non-null    int64  \n",
      " 90  in_mant_escola_privada_ong     697 non-null    int64  \n",
      " 91  in_mant_escola_privada_sind    697 non-null    int64  \n",
      " 92  in_mant_escola_privada_sist_s  697 non-null    int64  \n",
      " 93  in_mant_escola_privada_s_fins  697 non-null    int64  \n",
      " 94  tp_regulamentacao              697 non-null    int64  \n",
      " 95  in_educacao_indigena           697 non-null    int64  \n",
      "dtypes: float64(1), int64(94), object(1)\n",
      "memory usage: 522.9+ KB\n"
     ]
    }
   ],
   "source": [
    "alunos.info()"
   ]
  },
  {
   "cell_type": "code",
   "execution_count": 12,
   "id": "ee80e5a5-ed54-46ef-8d6b-b152774e0c84",
   "metadata": {},
   "outputs": [
    {
     "data": {
      "text/html": [
       "<div>\n",
       "<style scoped>\n",
       "    .dataframe tbody tr th:only-of-type {\n",
       "        vertical-align: middle;\n",
       "    }\n",
       "\n",
       "    .dataframe tbody tr th {\n",
       "        vertical-align: top;\n",
       "    }\n",
       "\n",
       "    .dataframe thead th {\n",
       "        text-align: right;\n",
       "    }\n",
       "</style>\n",
       "<table border=\"1\" class=\"dataframe\">\n",
       "  <thead>\n",
       "    <tr style=\"text-align: right;\">\n",
       "      <th></th>\n",
       "      <th>tp_sexo</th>\n",
       "      <th>id_aluno</th>\n",
       "    </tr>\n",
       "  </thead>\n",
       "  <tbody>\n",
       "    <tr>\n",
       "      <th>0</th>\n",
       "      <td>1</td>\n",
       "      <td>393</td>\n",
       "    </tr>\n",
       "    <tr>\n",
       "      <th>1</th>\n",
       "      <td>2</td>\n",
       "      <td>304</td>\n",
       "    </tr>\n",
       "  </tbody>\n",
       "</table>\n",
       "</div>"
      ],
      "text/plain": [
       "   tp_sexo  id_aluno\n",
       "0        1       393\n",
       "1        2       304"
      ]
     },
     "execution_count": 12,
     "metadata": {},
     "output_type": "execute_result"
    }
   ],
   "source": [
    "# 2- Quantidade de alunos por sexo?\n",
    "sexo = pd.DataFrame(alunos.groupby('tp_sexo')[\"id_aluno\"].count())\n",
    "sexo.reset_index(inplace = True)\n",
    "sexo"
   ]
  },
  {
   "cell_type": "code",
   "execution_count": 19,
   "id": "bfa50ee3-f141-4724-af11-5fbc5e29b252",
   "metadata": {},
   "outputs": [
    {
     "data": {
      "text/plain": [
       "Text(0.5, 1.0, 'Pct(%) dos alunos por sexo na Colégio Estadual Mário Costa Neto')"
      ]
     },
     "execution_count": 19,
     "metadata": {},
     "output_type": "execute_result"
    },
    {
     "data": {
      "image/png": "[encoded data removed]",
      "text/plain": [
       "<Figure size 432x288 with 1 Axes>"
      ]
     },
     "metadata": {},
     "output_type": "display_data"
    }
   ],
   "source": [
    "# Gráfico de pizza\n",
    "plt.pie(x = sexo['id_aluno'], labels = sexo['tp_sexo'], autopct = '%1.1f%%', startangle= 90)\n",
    "plt.title(\"Pct(%) dos alunos por sexo na Colégio Estadual Mário Costa Neto\")  "
   ]
  },
  {
   "cell_type": "code",
   "execution_count": null,
   "id": "282526ad-dd85-444a-8172-6a1064ac8dd6",
   "metadata": {},
   "outputs": [],
   "source": []
  }
 ],
 "metadata": {
  "kernelspec": {
   "display_name": "Python 3 (ipykernel)",
   "language": "python",
   "name": "python3"
  },
  "language_info": {
   "codemirror_mode": {
    "name": "ipython",
    "version": 3
   },
   "file_extension": ".py",
   "mimetype": "text/x-python",
   "name": "python",
   "nbconvert_exporter": "python",
   "pygments_lexer": "ipython3",
   "version": "3.9.7"
  }
 },
 "nbformat": 4,
 "nbformat_minor": 5
}
