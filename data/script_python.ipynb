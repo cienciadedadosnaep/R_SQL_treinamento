{
 "cells": [
  {
   "cell_type": "code",
   "execution_count": 1,
   "id": "76203d7b-0336-4eed-b437-af37991a35e0",
   "metadata": {},
   "outputs": [],
   "source": [
    "# importando bibliotecas\n",
    "import pandas as pd\n",
    "import matplotlib.pyplot as plt\n",
    "import seaborn as sns\n",
    "import numpy as np"
   ]
  },
  {
   "cell_type": "code",
   "execution_count": 2,
   "id": "175cba08-1efd-44fd-8a47-1e6fc51d6614",
   "metadata": {},
   "outputs": [],
   "source": [
    "# importando os bancos de dados\n",
    "escola = pd.read_csv('escola.csv', delimiter = ';')\n",
    "docente = pd.read_csv('docentes.csv', delimiter = ';')\n",
    "alunos = pd.read_csv('alunos.csv', delimiter = ';')"
   ]
  },
  {
   "cell_type": "markdown",
   "id": "12322e9c-5cad-4362-80ea-d7084b32e6a7",
   "metadata": {},
   "source": [
    "## Estudando os alunos"
   ]
  },
  {
   "cell_type": "code",
   "execution_count": 4,
   "id": "f53e356c-edee-4e25-8bc9-590a68719942",
   "metadata": {},
   "outputs": [
    {
     "name": "stdout",
     "output_type": "stream",
     "text": [
      "O número de alunos nessa escola é de: 697\n"
     ]
    }
   ],
   "source": [
    "## Respondendo as perguntas proposta:\n",
    "# 1- Quantos alunos matriculados há na escola no ano de 2019?\n",
    "num_alunos = alunos.groupby([\"id_aluno\"]).count()\n",
    "print(\"O número de alunos nessa escola é de:\", len(num_alunos))"
   ]
  },
  {
   "cell_type": "code",
   "execution_count": 5,
   "id": "ee80e5a5-ed54-46ef-8d6b-b152774e0c84",
   "metadata": {},
   "outputs": [
    {
     "name": "stdout",
     "output_type": "stream",
     "text": [
      "O número de alunos do sexo Masculino é de 393 , e do sexo feminino é de 304 .\n"
     ]
    }
   ],
   "source": [
    "# 2- Quantidade de alunos por sexo?\n",
    "sexo = pd.DataFrame(alunos.groupby('tp_sexo')[\"id_aluno\"].count())\n",
    "sexo.reset_index(inplace = True)\n",
    "sexo = sexo.assign(sexo = ['Masculino', 'Feminino'])\n",
    "print(\"O número de alunos do sexo Masculino é de\", sexo['id_aluno'][0], \n",
    "      \", e do sexo feminino é de\", sexo['id_aluno'][1], \".\")\n"
   ]
  },
  {
   "cell_type": "code",
   "execution_count": 6,
   "id": "bfa50ee3-f141-4724-af11-5fbc5e29b252",
   "metadata": {
    "tags": []
   },
   "outputs": [
    {
     "data": {
      "image/png": "[encoded data removed]",
      "text/plain": [
       "<Figure size 432x288 with 1 Axes>"
      ]
     },
     "metadata": {},
     "output_type": "display_data"
    }
   ],
   "source": [
    "# Gráfico de pizza\n",
    "plt.pie(x = sexo['id_aluno'], labels = sexo['sexo'], autopct = '%1.1f%%', startangle= 90)\n",
    "plt.title(\"Pct(%) dos alunos por sexo do Colégio Estadual Mário Costa Neto (2019)\")\n",
    "plt.savefig('qtd_sexo_aluno.png', transparent = True)"
   ]
  },
  {
   "cell_type": "code",
   "execution_count": 3,
   "id": "5397d05f-8167-4e84-af30-a754c6c410ca",
   "metadata": {},
   "outputs": [
    {
     "data": {
      "text/plain": [
       "in_eja\n",
       "0    470\n",
       "1    227\n",
       "Name: id_aluno, dtype: int64"
      ]
     },
     "execution_count": 3,
     "metadata": {},
     "output_type": "execute_result"
    }
   ],
   "source": [
    "# Número de alunos realizando o EJA\n",
    "n_alunos_eja = alunos.groupby('in_eja')[\"id_aluno\"].count()\n",
    "n_alunos_eja"
   ]
  },
  {
   "cell_type": "code",
   "execution_count": 7,
   "id": "60483db1-66b1-4257-8f6e-41d023ef4220",
   "metadata": {},
   "outputs": [
    {
     "data": {
      "text/html": [
       "<div>\n",
       "<style scoped>\n",
       "    .dataframe tbody tr th:only-of-type {\n",
       "        vertical-align: middle;\n",
       "    }\n",
       "\n",
       "    .dataframe tbody tr th {\n",
       "        vertical-align: top;\n",
       "    }\n",
       "\n",
       "    .dataframe thead th {\n",
       "        text-align: right;\n",
       "    }\n",
       "</style>\n",
       "<table border=\"1\" class=\"dataframe\">\n",
       "  <thead>\n",
       "    <tr style=\"text-align: right;\">\n",
       "      <th></th>\n",
       "      <th>tp_cor_raca</th>\n",
       "      <th>id_aluno</th>\n",
       "      <th>Cor</th>\n",
       "    </tr>\n",
       "  </thead>\n",
       "  <tbody>\n",
       "    <tr>\n",
       "      <th>0</th>\n",
       "      <td>0</td>\n",
       "      <td>73</td>\n",
       "      <td>Não declarada</td>\n",
       "    </tr>\n",
       "    <tr>\n",
       "      <th>1</th>\n",
       "      <td>1</td>\n",
       "      <td>15</td>\n",
       "      <td>Branca</td>\n",
       "    </tr>\n",
       "    <tr>\n",
       "      <th>2</th>\n",
       "      <td>2</td>\n",
       "      <td>289</td>\n",
       "      <td>Preta</td>\n",
       "    </tr>\n",
       "    <tr>\n",
       "      <th>3</th>\n",
       "      <td>3</td>\n",
       "      <td>314</td>\n",
       "      <td>Parda</td>\n",
       "    </tr>\n",
       "    <tr>\n",
       "      <th>4</th>\n",
       "      <td>4</td>\n",
       "      <td>4</td>\n",
       "      <td>Amarela</td>\n",
       "    </tr>\n",
       "    <tr>\n",
       "      <th>5</th>\n",
       "      <td>5</td>\n",
       "      <td>2</td>\n",
       "      <td>Indígena</td>\n",
       "    </tr>\n",
       "  </tbody>\n",
       "</table>\n",
       "</div>"
      ],
      "text/plain": [
       "   tp_cor_raca  id_aluno            Cor\n",
       "0            0        73  Não declarada\n",
       "1            1        15         Branca\n",
       "2            2       289          Preta\n",
       "3            3       314          Parda\n",
       "4            4         4        Amarela\n",
       "5            5         2       Indígena"
      ]
     },
     "execution_count": 7,
     "metadata": {},
     "output_type": "execute_result"
    }
   ],
   "source": [
    "# Quantidade de alunos por cor/raça?\n",
    "cor_raca = pd.DataFrame(alunos.groupby('tp_cor_raca')[\"id_aluno\"].count())\n",
    "cor_raca.reset_index(inplace = True)\n",
    "cor_raca = cor_raca.assign(Cor= ['Não declarada', \"Branca\", \"Preta\", \"Parda\", \"Amarela\", \"Indígena\"])\n",
    "cor_raca"
   ]
  },
  {
   "cell_type": "code",
   "execution_count": 8,
   "id": "54ab7147-f051-4a45-a90c-abffedff1e82",
   "metadata": {},
   "outputs": [
    {
     "data": {
      "image/png": "[encoded data removed]",
      "text/plain": [
       "<Figure size 720x360 with 1 Axes>"
      ]
     },
     "metadata": {},
     "output_type": "display_data"
    }
   ],
   "source": [
    "#Gráfico de pizza\n",
    "plt.figure(figsize = (10,5))\n",
    "plt.pie(x = cor_raca['id_aluno'],\n",
    "       startangle= 90,\n",
    "       textprops=dict(color = \"Black\"))\n",
    "plt.title(\"Pct(%) dos alunos por Cor/Raça do Colégio Estadual Mário Costa Neto (2019)\")\n",
    "percents = (cor_raca[\"id_aluno\"])/cor_raca[\"id_aluno\"].sum()\n",
    "legend = ['{} ({:.2%})'.format(idx, value) for idx, value in zip(cor_raca[\"Cor\"],percents)]\n",
    "plt.legend(legend,\n",
    "          title = \"Cor/Raça\", \n",
    "          loc = \"center left\",\n",
    "          bbox_to_anchor =(1,0,.5,1))\n",
    "plt.savefig('qtd_raca_alunos.png', transparent = True)"
   ]
  },
  {
   "cell_type": "code",
   "execution_count": 9,
   "id": "fd621252-df0a-4362-a001-2bb288b92b54",
   "metadata": {},
   "outputs": [
    {
     "data": {
      "text/html": [
       "<div>\n",
       "<style scoped>\n",
       "    .dataframe tbody tr th:only-of-type {\n",
       "        vertical-align: middle;\n",
       "    }\n",
       "\n",
       "    .dataframe tbody tr th {\n",
       "        vertical-align: top;\n",
       "    }\n",
       "\n",
       "    .dataframe thead th {\n",
       "        text-align: right;\n",
       "    }\n",
       "</style>\n",
       "<table border=\"1\" class=\"dataframe\">\n",
       "  <thead>\n",
       "    <tr style=\"text-align: right;\">\n",
       "      <th></th>\n",
       "      <th>nu_idade</th>\n",
       "      <th>id_aluno</th>\n",
       "    </tr>\n",
       "  </thead>\n",
       "  <tbody>\n",
       "    <tr>\n",
       "      <th>count</th>\n",
       "      <td>36.000000</td>\n",
       "      <td>36.000000</td>\n",
       "    </tr>\n",
       "    <tr>\n",
       "      <th>mean</th>\n",
       "      <td>31.388889</td>\n",
       "      <td>19.361111</td>\n",
       "    </tr>\n",
       "    <tr>\n",
       "      <th>std</th>\n",
       "      <td>14.303402</td>\n",
       "      <td>26.452278</td>\n",
       "    </tr>\n",
       "    <tr>\n",
       "      <th>min</th>\n",
       "      <td>11.000000</td>\n",
       "      <td>1.000000</td>\n",
       "    </tr>\n",
       "    <tr>\n",
       "      <th>25%</th>\n",
       "      <td>19.750000</td>\n",
       "      <td>2.000000</td>\n",
       "    </tr>\n",
       "    <tr>\n",
       "      <th>50%</th>\n",
       "      <td>28.500000</td>\n",
       "      <td>4.500000</td>\n",
       "    </tr>\n",
       "    <tr>\n",
       "      <th>75%</th>\n",
       "      <td>43.250000</td>\n",
       "      <td>26.000000</td>\n",
       "    </tr>\n",
       "    <tr>\n",
       "      <th>max</th>\n",
       "      <td>61.000000</td>\n",
       "      <td>90.000000</td>\n",
       "    </tr>\n",
       "  </tbody>\n",
       "</table>\n",
       "</div>"
      ],
      "text/plain": [
       "        nu_idade   id_aluno\n",
       "count  36.000000  36.000000\n",
       "mean   31.388889  19.361111\n",
       "std    14.303402  26.452278\n",
       "min    11.000000   1.000000\n",
       "25%    19.750000   2.000000\n",
       "50%    28.500000   4.500000\n",
       "75%    43.250000  26.000000\n",
       "max    61.000000  90.000000"
      ]
     },
     "execution_count": 9,
     "metadata": {},
     "output_type": "execute_result"
    }
   ],
   "source": [
    "# Idade dos alunos\n",
    "idade = pd.DataFrame(alunos.groupby(\"nu_idade\")[\"id_aluno\"].count())\n",
    "idade.reset_index(inplace = True)\n",
    "desc = idade.describe(include = 'all')\n",
    "desc"
   ]
  },
  {
   "cell_type": "code",
   "execution_count": 10,
   "id": "df0dc39d-1680-42a7-bae0-ebc47c49cbaf",
   "metadata": {},
   "outputs": [
    {
     "data": {
      "text/html": [
       "<div>\n",
       "<style scoped>\n",
       "    .dataframe tbody tr th:only-of-type {\n",
       "        vertical-align: middle;\n",
       "    }\n",
       "\n",
       "    .dataframe tbody tr th {\n",
       "        vertical-align: top;\n",
       "    }\n",
       "\n",
       "    .dataframe thead th {\n",
       "        text-align: right;\n",
       "    }\n",
       "</style>\n",
       "<table border=\"1\" class=\"dataframe\">\n",
       "  <thead>\n",
       "    <tr style=\"text-align: right;\">\n",
       "      <th></th>\n",
       "      <th>nu_idade</th>\n",
       "      <th>id_aluno</th>\n",
       "    </tr>\n",
       "  </thead>\n",
       "  <tbody>\n",
       "    <tr>\n",
       "      <th>0</th>\n",
       "      <td>11</td>\n",
       "      <td>14</td>\n",
       "    </tr>\n",
       "    <tr>\n",
       "      <th>1</th>\n",
       "      <td>12</td>\n",
       "      <td>63</td>\n",
       "    </tr>\n",
       "    <tr>\n",
       "      <th>2</th>\n",
       "      <td>13</td>\n",
       "      <td>76</td>\n",
       "    </tr>\n",
       "    <tr>\n",
       "      <th>3</th>\n",
       "      <td>14</td>\n",
       "      <td>89</td>\n",
       "    </tr>\n",
       "    <tr>\n",
       "      <th>4</th>\n",
       "      <td>15</td>\n",
       "      <td>90</td>\n",
       "    </tr>\n",
       "    <tr>\n",
       "      <th>5</th>\n",
       "      <td>16</td>\n",
       "      <td>49</td>\n",
       "    </tr>\n",
       "    <tr>\n",
       "      <th>6</th>\n",
       "      <td>17</td>\n",
       "      <td>44</td>\n",
       "    </tr>\n",
       "    <tr>\n",
       "      <th>7</th>\n",
       "      <td>18</td>\n",
       "      <td>38</td>\n",
       "    </tr>\n",
       "    <tr>\n",
       "      <th>8</th>\n",
       "      <td>19</td>\n",
       "      <td>46</td>\n",
       "    </tr>\n",
       "    <tr>\n",
       "      <th>9</th>\n",
       "      <td>20</td>\n",
       "      <td>49</td>\n",
       "    </tr>\n",
       "    <tr>\n",
       "      <th>10</th>\n",
       "      <td>21</td>\n",
       "      <td>22</td>\n",
       "    </tr>\n",
       "    <tr>\n",
       "      <th>11</th>\n",
       "      <td>22</td>\n",
       "      <td>19</td>\n",
       "    </tr>\n",
       "    <tr>\n",
       "      <th>12</th>\n",
       "      <td>23</td>\n",
       "      <td>11</td>\n",
       "    </tr>\n",
       "    <tr>\n",
       "      <th>13</th>\n",
       "      <td>24</td>\n",
       "      <td>20</td>\n",
       "    </tr>\n",
       "    <tr>\n",
       "      <th>14</th>\n",
       "      <td>25</td>\n",
       "      <td>12</td>\n",
       "    </tr>\n",
       "    <tr>\n",
       "      <th>15</th>\n",
       "      <td>26</td>\n",
       "      <td>6</td>\n",
       "    </tr>\n",
       "    <tr>\n",
       "      <th>16</th>\n",
       "      <td>27</td>\n",
       "      <td>5</td>\n",
       "    </tr>\n",
       "    <tr>\n",
       "      <th>17</th>\n",
       "      <td>28</td>\n",
       "      <td>8</td>\n",
       "    </tr>\n",
       "    <tr>\n",
       "      <th>18</th>\n",
       "      <td>29</td>\n",
       "      <td>2</td>\n",
       "    </tr>\n",
       "    <tr>\n",
       "      <th>19</th>\n",
       "      <td>30</td>\n",
       "      <td>1</td>\n",
       "    </tr>\n",
       "    <tr>\n",
       "      <th>20</th>\n",
       "      <td>31</td>\n",
       "      <td>4</td>\n",
       "    </tr>\n",
       "    <tr>\n",
       "      <th>21</th>\n",
       "      <td>33</td>\n",
       "      <td>3</td>\n",
       "    </tr>\n",
       "    <tr>\n",
       "      <th>22</th>\n",
       "      <td>34</td>\n",
       "      <td>3</td>\n",
       "    </tr>\n",
       "    <tr>\n",
       "      <th>23</th>\n",
       "      <td>37</td>\n",
       "      <td>4</td>\n",
       "    </tr>\n",
       "    <tr>\n",
       "      <th>24</th>\n",
       "      <td>38</td>\n",
       "      <td>2</td>\n",
       "    </tr>\n",
       "    <tr>\n",
       "      <th>25</th>\n",
       "      <td>42</td>\n",
       "      <td>1</td>\n",
       "    </tr>\n",
       "    <tr>\n",
       "      <th>26</th>\n",
       "      <td>43</td>\n",
       "      <td>2</td>\n",
       "    </tr>\n",
       "    <tr>\n",
       "      <th>27</th>\n",
       "      <td>44</td>\n",
       "      <td>2</td>\n",
       "    </tr>\n",
       "    <tr>\n",
       "      <th>28</th>\n",
       "      <td>46</td>\n",
       "      <td>2</td>\n",
       "    </tr>\n",
       "    <tr>\n",
       "      <th>29</th>\n",
       "      <td>48</td>\n",
       "      <td>1</td>\n",
       "    </tr>\n",
       "    <tr>\n",
       "      <th>30</th>\n",
       "      <td>50</td>\n",
       "      <td>3</td>\n",
       "    </tr>\n",
       "    <tr>\n",
       "      <th>31</th>\n",
       "      <td>51</td>\n",
       "      <td>2</td>\n",
       "    </tr>\n",
       "    <tr>\n",
       "      <th>32</th>\n",
       "      <td>53</td>\n",
       "      <td>1</td>\n",
       "    </tr>\n",
       "    <tr>\n",
       "      <th>33</th>\n",
       "      <td>54</td>\n",
       "      <td>1</td>\n",
       "    </tr>\n",
       "    <tr>\n",
       "      <th>34</th>\n",
       "      <td>55</td>\n",
       "      <td>1</td>\n",
       "    </tr>\n",
       "    <tr>\n",
       "      <th>35</th>\n",
       "      <td>61</td>\n",
       "      <td>1</td>\n",
       "    </tr>\n",
       "  </tbody>\n",
       "</table>\n",
       "</div>"
      ],
      "text/plain": [
       "    nu_idade  id_aluno\n",
       "0         11        14\n",
       "1         12        63\n",
       "2         13        76\n",
       "3         14        89\n",
       "4         15        90\n",
       "5         16        49\n",
       "6         17        44\n",
       "7         18        38\n",
       "8         19        46\n",
       "9         20        49\n",
       "10        21        22\n",
       "11        22        19\n",
       "12        23        11\n",
       "13        24        20\n",
       "14        25        12\n",
       "15        26         6\n",
       "16        27         5\n",
       "17        28         8\n",
       "18        29         2\n",
       "19        30         1\n",
       "20        31         4\n",
       "21        33         3\n",
       "22        34         3\n",
       "23        37         4\n",
       "24        38         2\n",
       "25        42         1\n",
       "26        43         2\n",
       "27        44         2\n",
       "28        46         2\n",
       "29        48         1\n",
       "30        50         3\n",
       "31        51         2\n",
       "32        53         1\n",
       "33        54         1\n",
       "34        55         1\n",
       "35        61         1"
      ]
     },
     "execution_count": 10,
     "metadata": {},
     "output_type": "execute_result"
    }
   ],
   "source": [
    "idade"
   ]
  },
  {
   "cell_type": "code",
   "execution_count": 11,
   "id": "f737a4ff-0196-4574-8297-e2bb7d2952e1",
   "metadata": {},
   "outputs": [
    {
     "data": {
      "text/html": [
       "<div>\n",
       "<style scoped>\n",
       "    .dataframe tbody tr th:only-of-type {\n",
       "        vertical-align: middle;\n",
       "    }\n",
       "\n",
       "    .dataframe tbody tr th {\n",
       "        vertical-align: top;\n",
       "    }\n",
       "\n",
       "    .dataframe thead th {\n",
       "        text-align: right;\n",
       "    }\n",
       "</style>\n",
       "<table border=\"1\" class=\"dataframe\">\n",
       "  <thead>\n",
       "    <tr style=\"text-align: right;\">\n",
       "      <th></th>\n",
       "      <th>id_aluno</th>\n",
       "    </tr>\n",
       "    <tr>\n",
       "      <th>faixa_etaria</th>\n",
       "      <th></th>\n",
       "    </tr>\n",
       "  </thead>\n",
       "  <tbody>\n",
       "    <tr>\n",
       "      <th>(10, 15]</th>\n",
       "      <td>332</td>\n",
       "    </tr>\n",
       "    <tr>\n",
       "      <th>(15, 20]</th>\n",
       "      <td>226</td>\n",
       "    </tr>\n",
       "    <tr>\n",
       "      <th>(20, 25]</th>\n",
       "      <td>84</td>\n",
       "    </tr>\n",
       "    <tr>\n",
       "      <th>(25, 30]</th>\n",
       "      <td>22</td>\n",
       "    </tr>\n",
       "    <tr>\n",
       "      <th>(30, 35]</th>\n",
       "      <td>10</td>\n",
       "    </tr>\n",
       "    <tr>\n",
       "      <th>(35, 40]</th>\n",
       "      <td>6</td>\n",
       "    </tr>\n",
       "    <tr>\n",
       "      <th>(40, 45]</th>\n",
       "      <td>5</td>\n",
       "    </tr>\n",
       "    <tr>\n",
       "      <th>(45, 50]</th>\n",
       "      <td>6</td>\n",
       "    </tr>\n",
       "    <tr>\n",
       "      <th>(50, 55]</th>\n",
       "      <td>5</td>\n",
       "    </tr>\n",
       "  </tbody>\n",
       "</table>\n",
       "</div>"
      ],
      "text/plain": [
       "              id_aluno\n",
       "faixa_etaria          \n",
       "(10, 15]           332\n",
       "(15, 20]           226\n",
       "(20, 25]            84\n",
       "(25, 30]            22\n",
       "(30, 35]            10\n",
       "(35, 40]             6\n",
       "(40, 45]             5\n",
       "(45, 50]             6\n",
       "(50, 55]             5"
      ]
     },
     "execution_count": 11,
     "metadata": {},
     "output_type": "execute_result"
    }
   ],
   "source": [
    "#Criando faixa etária\n",
    "faixa_etaria = np.arange(10, alunos['nu_idade'].max()-1, 5)\n",
    "alunos['faixa_etaria'] = pd.cut(alunos['nu_idade'], faixa_etaria)\n",
    "idade_gp = pd.DataFrame(alunos.groupby('faixa_etaria')[\"id_aluno\"].count())\n",
    "n_alunos_faixa = idade_gp['id_aluno']\n",
    "idade_gp"
   ]
  },
  {
   "cell_type": "code",
   "execution_count": 12,
   "id": "5e30e653-590a-4353-a88a-b5081ce03242",
   "metadata": {},
   "outputs": [
    {
     "data": {
      "image/png": "[encoded data removed]",
      "text/plain": [
       "<Figure size 720x360 with 1 Axes>"
      ]
     },
     "metadata": {
      "needs_background": "light"
     },
     "output_type": "display_data"
    }
   ],
   "source": [
    "# Gráfico de barras\n",
    "plt.figure(figsize = (10,5))\n",
    "barWidth = 0.6\n",
    "faixaetaria = ['10-15','15-20','20-25','25-30','30-35', '35-40',\n",
    "               '40-45','45-50', '50-55']\n",
    "cores = ['#1b126e','#6A5ACD', '#6495ED', '#00BFFF']\n",
    "plt.bar(faixaetaria, n_alunos_faixa, color = cores, width = barWidth)\n",
    "\n",
    "plt.xlabel (\"Faixa etária\")\n",
    "plt.ylabel(\"Nº de alunos\")\n",
    "plt.title('Número de alunos por faixa etária')\n",
    "\n",
    "plt.savefig('n_estudantes_faixa_etaria.png', transparent = True)"
   ]
  },
  {
   "cell_type": "code",
   "execution_count": 13,
   "id": "0699d2e3-8578-4253-8d3e-b0315addf8b0",
   "metadata": {
    "tags": []
   },
   "outputs": [
    {
     "name": "stdout",
     "output_type": "stream",
     "text": [
      "O número de alunos com deficiência matriculados é 15\n"
     ]
    }
   ],
   "source": [
    "# Qual a quantidade de alunos com deficiência?\n",
    "def_aud = pd.DataFrame(alunos.groupby('in_def_auditiva')[\"id_aluno\"].count())\n",
    "n_def_aud = len(num_alunos)- (def_aud[\"id_aluno\"][0])\n",
    "def_fis = pd.DataFrame(alunos.groupby('in_def_fisica')[\"id_aluno\"].count())\n",
    "n_def_fis = len(num_alunos)- (def_fis[\"id_aluno\"][0])\n",
    "def_int = pd.DataFrame(alunos.groupby('in_def_intelectual')[\"id_aluno\"].count())\n",
    "n_def_int = len(num_alunos)- (def_int[\"id_aluno\"][0])\n",
    "def_mult = pd.DataFrame(alunos.groupby('in_def_multipla')[\"id_aluno\"].count())\n",
    "n_def_mult = len(num_alunos)- (def_mult[\"id_aluno\"][0])\n",
    "\n",
    "n_total_def = n_def_aud + n_def_fis + n_def_int + n_def_mult\n",
    "print(\"O número de alunos com deficiência matriculados é\", n_total_def)"
   ]
  },
  {
   "cell_type": "code",
   "execution_count": 14,
   "id": "af5d7c79-9912-4be2-94a6-71ff24935540",
   "metadata": {},
   "outputs": [
    {
     "name": "stderr",
     "output_type": "stream",
     "text": [
      "C:\\Users\\yagom\\AppData\\Local\\Temp/ipykernel_10116/4131091595.py:7: SettingWithCopyWarning: \n",
      "A value is trying to be set on a copy of a slice from a DataFrame\n",
      "\n",
      "See the caveats in the documentation: https://pandas.pydata.org/pandas-docs/stable/user_guide/indexing.html#returning-a-view-versus-a-copy\n",
      "  defic['Total'][0] = n_total_def\n",
      "C:\\Users\\yagom\\AppData\\Local\\Temp/ipykernel_10116/4131091595.py:8: SettingWithCopyWarning: \n",
      "A value is trying to be set on a copy of a slice from a DataFrame\n",
      "\n",
      "See the caveats in the documentation: https://pandas.pydata.org/pandas-docs/stable/user_guide/indexing.html#returning-a-view-versus-a-copy\n",
      "  defic['Total'][1] = n_total_ndef\n"
     ]
    }
   ],
   "source": [
    "# Qual a porcentagem dos alunos por tipo de deficiência?\n",
    "n_total_ndef = len(num_alunos)- n_total_def\n",
    "\n",
    "defic = pd.DataFrame()\n",
    "defic.reset_index(inplace= True)\n",
    "defic = defic.assign(Deficiência = ['Sim', 'Não'], Total=[0,0])\n",
    "defic['Total'][0] = n_total_def\n",
    "defic['Total'][1] = n_total_ndef\n",
    "\n",
    "pct_fis = (def_fis['id_aluno'][1]/n_total_def) *100\n",
    "pct_int = (def_int['id_aluno'][1]/n_total_def) *100\n",
    "pct_mult = (def_mult['id_aluno'][1]/n_total_def) *100"
   ]
  },
  {
   "cell_type": "code",
   "execution_count": 15,
   "id": "a5b6dfd6-bdc8-44de-9d1b-5ef06190908d",
   "metadata": {},
   "outputs": [
    {
     "data": {
      "image/png": "[encoded data removed]",
      "text/plain": [
       "<Figure size 576x504 with 1 Axes>"
      ]
     },
     "metadata": {},
     "output_type": "display_data"
    },
    {
     "data": {
      "text/plain": [
       "<Figure size 432x288 with 0 Axes>"
      ]
     },
     "metadata": {},
     "output_type": "display_data"
    }
   ],
   "source": [
    "#Gráfico de pizza\n",
    "plt.figure(figsize = (8,7))\n",
    "plt.pie(x = (pct_fis, pct_int, pct_mult),\n",
    "       autopct= '%1.1f%%',\n",
    "       startangle= 90,\n",
    "       textprops=dict(color = \"Black\"))\n",
    "plt.title(\"Pct(%) por tipo de deficiência dos alunos\")\n",
    "\n",
    "plt.legend(['Física', 'Intelectual', 'Múltipla'], \n",
    "          title = \"Deficiência\", \n",
    "          loc = \"center left\",\n",
    "          bbox_to_anchor =(1,0,.5,1))\n",
    "\n",
    "plt.show()\n",
    "plt.savefig('defciciencia_alunos.png', transparent = True)"
   ]
  },
  {
   "cell_type": "markdown",
   "id": "c6e017c7-e6ba-487e-b941-572634a8f722",
   "metadata": {},
   "source": [
    "## Estudando os docentes"
   ]
  },
  {
   "cell_type": "code",
   "execution_count": 16,
   "id": "282526ad-dd85-444a-8172-6a1064ac8dd6",
   "metadata": {
    "tags": []
   },
   "outputs": [
    {
     "name": "stdout",
     "output_type": "stream",
     "text": [
      "O número de docentes na escola é de: 140\n"
     ]
    }
   ],
   "source": [
    "# 3- Qual é o número de docentes/diretores da escola?\n",
    "n_docentes = docente.groupby([\"id\"]).count()\n",
    "print(\"O número de docentes na escola é de:\", len(n_docentes))"
   ]
  },
  {
   "cell_type": "code",
   "execution_count": 17,
   "id": "99aad674-0d7a-4c8e-99c5-2f508fb9aba1",
   "metadata": {},
   "outputs": [
    {
     "name": "stdout",
     "output_type": "stream",
     "text": [
      "O número de docentes do sexo Masculino é de 21 , e do sexo feminino é de 119 .\n"
     ]
    }
   ],
   "source": [
    "# 4- Dos docentes, quantos são do sexo masculino e quantos do sexo feminino?\n",
    "sexo_dc = pd.DataFrame(docente.groupby('tp_sexo')[\"id\"].count())\n",
    "sexo_dc.reset_index(inplace = True)\n",
    "sexo_dc = sexo_dc.assign(sexo = ['Masculino', 'Feminino'])\n",
    "print(\"O número de docentes do sexo Masculino é de\", sexo_dc['id'][0], \n",
    "      \", e do sexo feminino é de\", sexo_dc['id'][1], \".\")"
   ]
  },
  {
   "cell_type": "code",
   "execution_count": 18,
   "id": "b059d422-80e4-4f8a-8a39-a2e2100494ad",
   "metadata": {},
   "outputs": [
    {
     "data": {
      "image/png": "[encoded data removed]",
      "text/plain": [
       "<Figure size 432x288 with 1 Axes>"
      ]
     },
     "metadata": {},
     "output_type": "display_data"
    }
   ],
   "source": [
    "# Gráfico de pizza\n",
    "plt.pie(x = sexo_dc['id'], labels = sexo_dc['sexo'], autopct = '%1.1f%%', startangle= 90)\n",
    "plt.title(\"Pct(%) dos docentes por sexo do Colégio Estadual Mário Costa Neto (2019)\")\n",
    "plt.savefig('Qtd_sexo_docentes.png', transparent = True)"
   ]
  },
  {
   "cell_type": "code",
   "execution_count": 19,
   "id": "c1a59bad-1604-4160-b63d-e0012af3ad9f",
   "metadata": {
    "tags": []
   },
   "outputs": [
    {
     "name": "stdout",
     "output_type": "stream",
     "text": [
      "O número de docentes com algum tipo de especialização é 127\n",
      "O número de docentes com mestrado é 14\n",
      "O número de docentes com algum mestrado e especialização é 14\n",
      "O número de docentes com doutorado é 0\n"
     ]
    }
   ],
   "source": [
    "#Quantos docentes possuem especialização/mestrado/doutorado?\n",
    "espec = pd.DataFrame(docente.groupby('in_especializacao')[\"id\"].count())\n",
    "n_espec = len(n_docentes) - (espec[\"id\"][0])\n",
    "mestr = pd.DataFrame(docente.groupby('in_mestrado')[\"id\"].count())\n",
    "n_mestr = len(n_docentes) - (mestr[\"id\"][0])\n",
    "doc = pd.DataFrame(docente.groupby('in_doutorado')[\"id\"].count())\n",
    "n_doc = len(n_docentes) - (doc[\"id\"][0])\n",
    "\n",
    "filt_espec = docente[\"in_especializacao\"] ==1\n",
    "filt_mestr = docente[\"in_mestrado\"]==1\n",
    "\n",
    "espec_mestr = docente[filt_espec]\n",
    "espec_mestr = docente[filt_mestr]\n",
    "\n",
    "print(\"O número de docentes com algum tipo de especialização é\", n_espec)\n",
    "print(\"O número de docentes com mestrado é\", n_mestr)\n",
    "print(\"O número de docentes com algum mestrado e especialização é\", len(espec_mestr))\n",
    "print(\"O número de docentes com doutorado é\", n_doc)"
   ]
  },
  {
   "cell_type": "code",
   "execution_count": 20,
   "id": "08e3440b-9644-4503-a918-11360cbe5281",
   "metadata": {
    "tags": []
   },
   "outputs": [],
   "source": [
    "# Número de docentes por matéria\n",
    "ind_materias = [\"in_disc_artes\", \"in_disc_biologia\", \"in_disc_ciencias\", \"in_disc_educacao_fisica\",\n",
    "            \"in_disc_est_sociais_sociologia\", \"in_disc_fisica\", \"in_disc_geografia\", \"in_disc_historia\", \"in_disc_lingua_ingles\",\n",
    "            \"in_disc_lingua_portuguesa\", \"in_disc_matematica\", \"in_disc_outras\", \"in_disc_quimica\", \"in_disc_sociologia\"]\n",
    "prof_materia = []\n",
    "#filt = docente[ind_materias[i]] ==1\n",
    "filt = []\n",
    "mat = []\n",
    "n_prof =[]\n",
    "ntotal=0\n",
    "for i in range(0,14,1):\n",
    "    mat.append(ind_materias[i])\n",
    "    filt.append(docente.groupby(mat[i])[\"id\"].count())\n",
    "    n_prof.append((filt[i])[1])\n",
    "    ntotal = ntotal + n_prof[i]\n",
    "\n",
    "    #prof_materia[i] = docente.groupby(\"ind_materias\"[i])[\"id\"].count()"
   ]
  },
  {
   "cell_type": "code",
   "execution_count": 21,
   "id": "50825720-a702-463d-8acc-c37097482e87",
   "metadata": {},
   "outputs": [
    {
     "data": {
      "text/plain": [
       "array([ 3,  2, 16, 14,  2,  2, 18, 18, 18, 18, 18, 18,  2,  2],\n",
       "      dtype=int64)"
      ]
     },
     "execution_count": 21,
     "metadata": {},
     "output_type": "execute_result"
    }
   ],
   "source": [
    "n_prof = np.array(n_prof)\n",
    "n_prof"
   ]
  },
  {
   "cell_type": "code",
   "execution_count": 22,
   "id": "6f0afec4-0d0e-4d56-a7bb-d2bdebbf2010",
   "metadata": {},
   "outputs": [
    {
     "data": {
      "text/plain": [
       "1.0"
      ]
     },
     "execution_count": 22,
     "metadata": {},
     "output_type": "execute_result"
    }
   ],
   "source": [
    "percents\n",
    "sum(percents)"
   ]
  },
  {
   "cell_type": "code",
   "execution_count": 25,
   "id": "e7aebf13-ebce-46a1-b0a7-05d81a680d5f",
   "metadata": {
    "tags": []
   },
   "outputs": [
    {
     "data": {
      "image/png": "[encoded data removed]",
      "text/plain": [
       "<Figure size 864x504 with 1 Axes>"
      ]
     },
     "metadata": {},
     "output_type": "display_data"
    }
   ],
   "source": [
    "#Gráfico de pizza\n",
    "plt.figure(figsize = (12,7))\n",
    "cores = ['#8A2BE2', '#0000FF', '#FAEBD7', '#F0FFFF',\n",
    "        '#FFE4C4', '#33d65f', '#d2e61e', '#d14c34',\n",
    "        '#34afd1','#d134c1', '#de3584', '#35dea6',\n",
    "        '#b4f53b','#f5793b']\n",
    "plt.pie(x = n_prof, \n",
    "        startangle= 90,\n",
    "        explode = [0,0,0,0,0,0,0.1,0.1,0.1,0.1,0.1,0.1,0,0],\n",
    "        colors = cores,\n",
    "        pctdistance=1.1)\n",
    "mat1 = ['Artes', 'Biologia', 'Ciências', \"Ed. Física\",\n",
    "        \"Estudos Sociais\", \"Física\", \"Geografia\" , \"História\",\n",
    "        \"Inglês\", \"Português\", \"Matemática\", \"Outras\", \"Química\", \"Sociologia\"]\n",
    "percents = (n_prof)/n_prof.sum()\n",
    "legend = ['{} ({:.2%})'.format(idx, value) for idx, value in zip(mat1,percents)]\n",
    "plt.legend(legend,\n",
    "          title = \"Matérias\",\n",
    "          loc = \"center left\",\n",
    "          bbox_to_anchor =(1,0,.5,1))\n",
    "plt.title(\"Pct(%) de docentes por distribuidos por matéria no Colégio Estadual Mário Costa Neto (2019)\")\n",
    "plt.style='seaborn0.8-deep'\n",
    "plt.savefig('Matérias_docentes.png', transparent = True)"
   ]
  },
  {
   "cell_type": "code",
   "execution_count": null,
   "id": "0d55a23c-419a-4eac-9510-c60d5c09cb6a",
   "metadata": {},
   "outputs": [],
   "source": []
  }
 ],
 "metadata": {
  "kernelspec": {
   "display_name": "Python 3 (ipykernel)",
   "language": "python",
   "name": "python3"
  },
  "language_info": {
   "codemirror_mode": {
    "name": "ipython",
    "version": 3
   },
   "file_extension": ".py",
   "mimetype": "text/x-python",
   "name": "python",
   "nbconvert_exporter": "python",
   "pygments_lexer": "ipython3",
   "version": "3.9.7"
  }
 },
 "nbformat": 4,
 "nbformat_minor": 5
}
